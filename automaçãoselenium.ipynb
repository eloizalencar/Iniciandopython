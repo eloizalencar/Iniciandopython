{
 "cells": [
  {
   "cell_type": "code",
   "execution_count": 7,
   "metadata": {},
   "outputs": [],
   "source": [
    "# importando as bilbiotecas\n",
    "\n",
    "import selenium as sel\n",
    "import pandas as pd\n",
    "import time\n",
    "\n",
    "\n",
    "# Entrar no sistema da empresa\n",
    "#https://dlp.hashtagtreinamentos.com/python/intensivao/login\n"
   ]
  },
  {
   "cell_type": "code",
   "execution_count": 13,
   "metadata": {},
   "outputs": [],
   "source": [
    "from selenium import webdriver\n",
    "from selenium.webdriver.common.by import By\n",
    "import time\n",
    "from selenium.webdriver.support.ui import WebDriverWait\n",
    "from selenium.webdriver.support import expected_conditions as EC\n",
    "\n",
    "# Configurar as opções do driver Chrome\n",
    "options = webdriver.ChromeOptions()\n",
    "options.add_argument(\"--disable-gpu\")  # Desabilitar aceleração de hardware (necessário para alguns ambientes)\n",
    "options.add_argument(\"--no-sandbox\")  # Desabilitar o uso do sandbox (necessário para alguns ambientes)\n",
    "\n",
    "# Inicializar o driver Chrome com as opções configuradas\n",
    "driver = webdriver.Chrome(options=options)\n"
   ]
  },
  {
   "cell_type": "code",
   "execution_count": 14,
   "metadata": {},
   "outputs": [],
   "source": [
    "# Abrir a página de login \n",
    "driver.get(\"https://dlp.hashtagtreinamentos.com/python/intensivao/login\")\n",
    "# Esperar alguns segundos para a página carregar completamente (opcional)\n",
    "driver.implicitly_wait(10)"
   ]
  },
  {
   "cell_type": "code",
   "execution_count": 15,
   "metadata": {},
   "outputs": [],
   "source": [
    "# Localizar o campo de usuário e preenchê-lo\n",
    "username_field = driver.find_element(By.XPATH, '//*[@id=\"email\"]')\n",
    "username_field.send_keys('elopython@hotmail.com')\n",
    "\n",
    "time.sleep(3)\n",
    "# Localizar o campo de senha e preenchê-lo\n",
    "password_field = driver.find_element(By.XPATH, '//*[@id=\"password\"]')\n",
    "password_field.send_keys('goiaba1403')\n",
    "time.sleep(3)\n",
    "\n",
    "# Submeter o formulário de login\n",
    "password_field.submit()\n",
    "\n",
    "# Agora você deve estar logado na conta do Instagram\n",
    "# Você pode continuar a navegar, interagir com a página, extrair dados, etc.\n",
    "\n",
    "time.sleep(5)\n"
   ]
  },
  {
   "cell_type": "code",
   "execution_count": 11,
   "metadata": {},
   "outputs": [
    {
     "name": "stdout",
     "output_type": "stream",
     "text": [
      "         codigo       marca        tipo  categoria  preco_unitario  custo  \\\n",
      "0    MOLO000251    Logitech       Mouse          1           25.95    6.5   \n",
      "1    MOLO000192    Logitech       Mouse          2           19.95    5.0   \n",
      "2    CAHA000251     Hashtag      Camisa          1           25.00   11.0   \n",
      "3    CAHA000252     Hashtag      Camisa          2           25.00   11.0   \n",
      "4    MOMU000111  Multilaser       Mouse          1           11.99    3.4   \n",
      "..          ...         ...         ...        ...             ...    ...   \n",
      "288  ACAP000192       Apple  Acessorios          2           19.00    3.8   \n",
      "289  ACSA0009.3     Samsung  Acessorios          3            9.55    2.1   \n",
      "290  CEMO000271    Motorola     Celular          1          279.00   72.5   \n",
      "291  FOMO000152    Motorola        Fone          2          150.00   33.0   \n",
      "292  CEMO000223    Motorola     Celular          3          229.00   55.0   \n",
      "\n",
      "                  obs  \n",
      "0                 NaN  \n",
      "1                 NaN  \n",
      "2                 NaN  \n",
      "3    Conferir estoque  \n",
      "4                 NaN  \n",
      "..                ...  \n",
      "288               NaN  \n",
      "289               NaN  \n",
      "290               NaN  \n",
      "291               NaN  \n",
      "292               NaN  \n",
      "\n",
      "[293 rows x 7 columns]\n"
     ]
    }
   ],
   "source": [
    "# Importar a base de produtos para cadrastar\n",
    "\n",
    "produtos = pd.read_csv('produtos.csv')\n",
    "print(produtos)\n"
   ]
  },
  {
   "cell_type": "code",
   "execution_count": 16,
   "metadata": {},
   "outputs": [
    {
     "ename": "ElementClickInterceptedException",
     "evalue": "Message: element click intercepted: Element <button type=\"submit\" id=\"pgtpy-botao\">...</button> is not clickable at point (684, 21). Other element would receive the click: <td>...</td>\n  (Session info: chrome=115.0.5790.99)\nStacktrace:\nBacktrace:\n\tGetHandleVerifier [0x00F2A813+48355]\n\t(No symbol) [0x00EBC4B1]\n\t(No symbol) [0x00DC5358]\n\t(No symbol) [0x00DF5062]\n\t(No symbol) [0x00DF3B98]\n\t(No symbol) [0x00DF239B]\n\t(No symbol) [0x00DF179E]\n\t(No symbol) [0x00DE9F5C]\n\t(No symbol) [0x00E0A73C]\n\t(No symbol) [0x00DE9A36]\n\t(No symbol) [0x00E0AA94]\n\t(No symbol) [0x00E1C922]\n\t(No symbol) [0x00E0A536]\n\t(No symbol) [0x00DE82DC]\n\t(No symbol) [0x00DE93DD]\n\tGetHandleVerifier [0x0118AABD+2539405]\n\tGetHandleVerifier [0x011CA78F+2800735]\n\tGetHandleVerifier [0x011C456C+2775612]\n\tGetHandleVerifier [0x00FB51E0+616112]\n\t(No symbol) [0x00EC5F8C]\n\t(No symbol) [0x00EC2328]\n\t(No symbol) [0x00EC240B]\n\t(No symbol) [0x00EB4FF7]\n\tBaseThreadInitThunk [0x762C7D59+25]\n\tRtlInitializeExceptionChain [0x77C2B79B+107]\n\tRtlClearBits [0x77C2B71F+191]\n",
     "output_type": "error",
     "traceback": [
      "\u001b[1;31m---------------------------------------------------------------------------\u001b[0m",
      "\u001b[1;31mElementClickInterceptedException\u001b[0m          Traceback (most recent call last)",
      "Cell \u001b[1;32mIn[16], line 35\u001b[0m\n\u001b[0;32m     32\u001b[0m    time\u001b[39m.\u001b[39msleep(\u001b[39m3\u001b[39m)\n\u001b[0;32m     34\u001b[0m    enviar \u001b[39m=\u001b[39m driver\u001b[39m.\u001b[39mfind_element(By\u001b[39m.\u001b[39mXPATH, \u001b[39m'\u001b[39m\u001b[39m//*[@id=\u001b[39m\u001b[39m\"\u001b[39m\u001b[39mpgtpy-botao\u001b[39m\u001b[39m\"\u001b[39m\u001b[39m]\u001b[39m\u001b[39m'\u001b[39m)\n\u001b[1;32m---> 35\u001b[0m    enviar\u001b[39m.\u001b[39;49mclick()\n\u001b[0;32m     37\u001b[0m \u001b[39m# Limpar os campos para o próximo cadastro\u001b[39;00m\n\u001b[0;32m     38\u001b[0m    Código_do_Produto\u001b[39m.\u001b[39mclear()\n",
      "File \u001b[1;32mc:\\Users\\eloiz\\Prog_eloiza\\env\\Lib\\site-packages\\selenium\\webdriver\\remote\\webelement.py:94\u001b[0m, in \u001b[0;36mWebElement.click\u001b[1;34m(self)\u001b[0m\n\u001b[0;32m     92\u001b[0m \u001b[39mdef\u001b[39;00m \u001b[39mclick\u001b[39m(\u001b[39mself\u001b[39m) \u001b[39m-\u001b[39m\u001b[39m>\u001b[39m \u001b[39mNone\u001b[39;00m:\n\u001b[0;32m     93\u001b[0m \u001b[39m    \u001b[39m\u001b[39m\"\"\"Clicks the element.\"\"\"\u001b[39;00m\n\u001b[1;32m---> 94\u001b[0m     \u001b[39mself\u001b[39;49m\u001b[39m.\u001b[39;49m_execute(Command\u001b[39m.\u001b[39;49mCLICK_ELEMENT)\n",
      "File \u001b[1;32mc:\\Users\\eloiz\\Prog_eloiza\\env\\Lib\\site-packages\\selenium\\webdriver\\remote\\webelement.py:395\u001b[0m, in \u001b[0;36mWebElement._execute\u001b[1;34m(self, command, params)\u001b[0m\n\u001b[0;32m    393\u001b[0m     params \u001b[39m=\u001b[39m {}\n\u001b[0;32m    394\u001b[0m params[\u001b[39m\"\u001b[39m\u001b[39mid\u001b[39m\u001b[39m\"\u001b[39m] \u001b[39m=\u001b[39m \u001b[39mself\u001b[39m\u001b[39m.\u001b[39m_id\n\u001b[1;32m--> 395\u001b[0m \u001b[39mreturn\u001b[39;00m \u001b[39mself\u001b[39;49m\u001b[39m.\u001b[39;49m_parent\u001b[39m.\u001b[39;49mexecute(command, params)\n",
      "File \u001b[1;32mc:\\Users\\eloiz\\Prog_eloiza\\env\\Lib\\site-packages\\selenium\\webdriver\\remote\\webdriver.py:346\u001b[0m, in \u001b[0;36mWebDriver.execute\u001b[1;34m(self, driver_command, params)\u001b[0m\n\u001b[0;32m    344\u001b[0m response \u001b[39m=\u001b[39m \u001b[39mself\u001b[39m\u001b[39m.\u001b[39mcommand_executor\u001b[39m.\u001b[39mexecute(driver_command, params)\n\u001b[0;32m    345\u001b[0m \u001b[39mif\u001b[39;00m response:\n\u001b[1;32m--> 346\u001b[0m     \u001b[39mself\u001b[39;49m\u001b[39m.\u001b[39;49merror_handler\u001b[39m.\u001b[39;49mcheck_response(response)\n\u001b[0;32m    347\u001b[0m     response[\u001b[39m\"\u001b[39m\u001b[39mvalue\u001b[39m\u001b[39m\"\u001b[39m] \u001b[39m=\u001b[39m \u001b[39mself\u001b[39m\u001b[39m.\u001b[39m_unwrap_value(response\u001b[39m.\u001b[39mget(\u001b[39m\"\u001b[39m\u001b[39mvalue\u001b[39m\u001b[39m\"\u001b[39m, \u001b[39mNone\u001b[39;00m))\n\u001b[0;32m    348\u001b[0m     \u001b[39mreturn\u001b[39;00m response\n",
      "File \u001b[1;32mc:\\Users\\eloiz\\Prog_eloiza\\env\\Lib\\site-packages\\selenium\\webdriver\\remote\\errorhandler.py:245\u001b[0m, in \u001b[0;36mErrorHandler.check_response\u001b[1;34m(self, response)\u001b[0m\n\u001b[0;32m    243\u001b[0m         alert_text \u001b[39m=\u001b[39m value[\u001b[39m\"\u001b[39m\u001b[39malert\u001b[39m\u001b[39m\"\u001b[39m]\u001b[39m.\u001b[39mget(\u001b[39m\"\u001b[39m\u001b[39mtext\u001b[39m\u001b[39m\"\u001b[39m)\n\u001b[0;32m    244\u001b[0m     \u001b[39mraise\u001b[39;00m exception_class(message, screen, stacktrace, alert_text)  \u001b[39m# type: ignore[call-arg]  # mypy is not smart enough here\u001b[39;00m\n\u001b[1;32m--> 245\u001b[0m \u001b[39mraise\u001b[39;00m exception_class(message, screen, stacktrace)\n",
      "\u001b[1;31mElementClickInterceptedException\u001b[0m: Message: element click intercepted: Element <button type=\"submit\" id=\"pgtpy-botao\">...</button> is not clickable at point (684, 21). Other element would receive the click: <td>...</td>\n  (Session info: chrome=115.0.5790.99)\nStacktrace:\nBacktrace:\n\tGetHandleVerifier [0x00F2A813+48355]\n\t(No symbol) [0x00EBC4B1]\n\t(No symbol) [0x00DC5358]\n\t(No symbol) [0x00DF5062]\n\t(No symbol) [0x00DF3B98]\n\t(No symbol) [0x00DF239B]\n\t(No symbol) [0x00DF179E]\n\t(No symbol) [0x00DE9F5C]\n\t(No symbol) [0x00E0A73C]\n\t(No symbol) [0x00DE9A36]\n\t(No symbol) [0x00E0AA94]\n\t(No symbol) [0x00E1C922]\n\t(No symbol) [0x00E0A536]\n\t(No symbol) [0x00DE82DC]\n\t(No symbol) [0x00DE93DD]\n\tGetHandleVerifier [0x0118AABD+2539405]\n\tGetHandleVerifier [0x011CA78F+2800735]\n\tGetHandleVerifier [0x011C456C+2775612]\n\tGetHandleVerifier [0x00FB51E0+616112]\n\t(No symbol) [0x00EC5F8C]\n\t(No symbol) [0x00EC2328]\n\t(No symbol) [0x00EC240B]\n\t(No symbol) [0x00EB4FF7]\n\tBaseThreadInitThunk [0x762C7D59+25]\n\tRtlInitializeExceptionChain [0x77C2B79B+107]\n\tRtlClearBits [0x77C2B71F+191]\n"
     ]
    }
   ],
   "source": [
    " # Iterar pelos dados do arquivo CSV e cadastrar os produtos\n",
    "for _, produto in produtos.iterrows():\n",
    "    codigo = produto['codigo']\n",
    "    marca = produto['marca']\n",
    "    tipo = produto['tipo']\n",
    "    categoria = produto['categoria']\n",
    "    preco_unitario = produto['preco_unitario']\n",
    "    custo = produto['custo']\n",
    "# Localizar os campos do formulário e preenchê-los\n",
    "    Código_do_Produto = driver.find_element(By.XPATH, '//*[@id=\"codigo\"]')\n",
    "    Código_do_Produto.send_keys(codigo)\n",
    "    time.sleep(3)\n",
    "\n",
    "    Marca_do_Produto = driver.find_element(By.XPATH, '//*[@id=\"marca\"]')\n",
    "    Marca_do_Produto.send_keys(marca)\n",
    "    time.sleep(3)\n",
    "\n",
    "    Tipo_do_Produto = driver.find_element(By.XPATH, '//*[@id=\"tipo\"]')\n",
    "    Tipo_do_Produto.send_keys(tipo)\n",
    "    time.sleep(3)\n",
    "\n",
    "    Categoria_do_Produto = driver.find_element(By.XPATH, '//*[@id=\"categoria\"]')\n",
    "    Categoria_do_Produto.send_keys(categoria)\n",
    "    time.sleep(3)\n",
    "\n",
    "    Preço_Unitário_do_Produto = driver.find_element(By.XPATH, '//*[@id=\"preco_unitario\"]')\n",
    "    Preço_Unitário_do_Produto.send_keys(preco_unitario)\n",
    "    time.sleep(3)\n",
    "\n",
    "    Custo_do_Produto = driver.find_element(By.XPATH, '//*[@id=\"custo\"]')\n",
    "    Custo_do_Produto.send_keys(custo)\n",
    "    time.sleep(3)\n",
    "\n",
    "    enviar = driver.find_element(By.XPATH, '//*[@id=\"pgtpy-botao\"]')\n",
    "    enviar.click()\n",
    "\n",
    " # Limpar os campos para o próximo cadastro\n",
    "    Código_do_Produto.clear()\n",
    "    Marca_do_Produto .clear()\n",
    "    Tipo_do_Produto.clear()\n",
    "    Categoria_do_Produto.clear()\n",
    "    Preço_Unitário_do_Produto .clear()\n",
    "    Custo_do_Produto.clear()\n",
    "# Fechar o navegador após concluir os cadastramentos\n",
    "driver.quit()\n"
   ]
  },
  {
   "cell_type": "code",
   "execution_count": null,
   "metadata": {},
   "outputs": [],
   "source": []
  }
 ],
 "metadata": {
  "kernelspec": {
   "display_name": "env",
   "language": "python",
   "name": "python3"
  },
  "language_info": {
   "codemirror_mode": {
    "name": "ipython",
    "version": 3
   },
   "file_extension": ".py",
   "mimetype": "text/x-python",
   "name": "python",
   "nbconvert_exporter": "python",
   "pygments_lexer": "ipython3",
   "version": "3.11.3"
  },
  "orig_nbformat": 4
 },
 "nbformat": 4,
 "nbformat_minor": 2
}
