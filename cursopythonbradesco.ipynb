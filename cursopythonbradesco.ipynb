{
 "cells": [
  {
   "cell_type": "code",
   "execution_count": 10,
   "metadata": {},
   "outputs": [
    {
     "name": "stdout",
     "output_type": "stream",
     "text": [
      "15.700000000000001\n"
     ]
    }
   ],
   "source": [
    "pi=3.14\n",
    "raio=5\n",
    "area=pi*raio\n",
    "print(area)"
   ]
  },
  {
   "cell_type": "code",
   "execution_count": 11,
   "metadata": {},
   "outputs": [
    {
     "name": "stdout",
     "output_type": "stream",
     "text": [
      "hello Word\n"
     ]
    }
   ],
   "source": [
    "print(\"hello Word\")"
   ]
  },
  {
   "cell_type": "code",
   "execution_count": 12,
   "metadata": {},
   "outputs": [
    {
     "name": "stdout",
     "output_type": "stream",
     "text": [
      "código: 10 Nome: jose O salario atual é de 1500.0\n",
      "<class 'float'>\n"
     ]
    }
   ],
   "source": [
    "#concatenando com ,\n",
    "codigo = 10\n",
    "salario = 1500.00\n",
    "nome = \"jose\"\n",
    "situação = True\n",
    "\n",
    "tipo = type(salario)\n",
    "\n",
    "print(\"código:\", codigo, \"Nome:\", nome, \"O salario atual é de\", salario)\n",
    "print(tipo)"
   ]
  },
  {
   "cell_type": "code",
   "execution_count": 13,
   "metadata": {},
   "outputs": [
    {
     "name": "stdout",
     "output_type": "stream",
     "text": [
      "código:10Nome:joseO salario atual é de1500.0\n",
      "<class 'float'>\n"
     ]
    }
   ],
   "source": [
    "#concatenando com +\n",
    "codigo = 10\n",
    "salario = 1500.00\n",
    "nome = \"jose\"\n",
    "situação = True\n",
    "\n",
    "tipo = type(salario)\n",
    "\n",
    "print(\"código:\" + str(codigo)+ \"Nome:\" + nome+ \"O salario atual é de\" + str(salario))\n",
    "print(tipo)"
   ]
  },
  {
   "cell_type": "code",
   "execution_count": 14,
   "metadata": {},
   "outputs": [
    {
     "name": "stdout",
     "output_type": "stream",
     "text": [
      "Codigo: 105\n",
      "Nome: jose\n",
      "Sálario: 1650.00\n",
      "Situação: True\n"
     ]
    }
   ],
   "source": [
    "#Utilizando mascaras de formatação\n",
    "codigo = 105\n",
    "salario = 1650.00\n",
    "nome = \"jose\"\n",
    "situação = True\n",
    "\n",
    "print(\"Codigo: %d\" % codigo)\n",
    "print(\"Nome: %s\" % nome)\n",
    "print(\"Sálario: %.2f\" % salario)\n",
    "print(\"Situação: %r\" % situação)"
   ]
  },
  {
   "cell_type": "code",
   "execution_count": 15,
   "metadata": {},
   "outputs": [
    {
     "name": "stdout",
     "output_type": "stream",
     "text": [
      "banana\n"
     ]
    }
   ],
   "source": [
    "#Utilizando a função \"input\" (entrada)\n",
    "fruta = input(\"Digite o nome de uma fruta:\")\n",
    "print(fruta)"
   ]
  },
  {
   "cell_type": "code",
   "execution_count": 16,
   "metadata": {},
   "outputs": [
    {
     "name": "stdout",
     "output_type": "stream",
     "text": [
      "Codigo: 25\n",
      "Nome: eki\n",
      "Sálario: 1500.00\n",
      "Situação: True\n"
     ]
    }
   ],
   "source": [
    "#Entrada de dados nap string\n",
    "codigo = int(input(\"Digite o codigo do funcionario\"))\n",
    "salario = float(input(\"informe o salrio\"))\n",
    "nome = input(\"digite o nome do funcionario\")\n",
    "situação = True\n",
    "\n",
    "print(\"Codigo: %d\" % codigo)\n",
    "print(\"Nome: %s\" % nome)\n",
    "print(\"Sálario: %.2f\" % salario)\n",
    "print(\"Situação: %r\" % situação)"
   ]
  },
  {
   "cell_type": "code",
   "execution_count": 17,
   "metadata": {},
   "outputs": [],
   "source": [
    "#Sequencia de escapes \n",
    "#\\n quebra de linha\n",
    "#\\t insere tabulação horizontal\n",
    "#\\v tabulação vertical\n",
    "#\\r equivale ao efeito da tecla enter\n",
    "#\\' aspas simples\n",
    "#\\\" aspas duplas\n",
    "#\\\\ barra invertida\n",
    "#\\a chamado de ASC bell ou beep do sistema. Aciona o bipe\n",
    "#\\b aciona o backspace, apaga o caractere anterior\n",
    "#\\f quebra de pagina\n",
    "#\\u caractere UNICODE. codigo de 4 numeros."
   ]
  },
  {
   "cell_type": "code",
   "execution_count": 18,
   "metadata": {},
   "outputs": [],
   "source": [
    "#Operadores aritmeticos\n",
    "# + adição\n",
    "# - subtração\n",
    "# * multiplicação\n",
    "# / divisão real\n",
    "# // dividão inteiro\n",
    "# ** exponenciação\n",
    "# % resto da divisão"
   ]
  },
  {
   "cell_type": "code",
   "execution_count": 19,
   "metadata": {},
   "outputs": [],
   "source": [
    "#Operadores relacionais\n",
    "#Igual a\t==\n",
    "#Diferente de\t!=\n",
    "#Maior que\t>\n",
    "#Menor que\t<\n",
    "#Maior ou igual a\t>=\n",
    "#Menor ou igual a\t<="
   ]
  },
  {
   "cell_type": "code",
   "execution_count": null,
   "metadata": {},
   "outputs": [],
   "source": [
    "#Operadores lógicos\n",
    "#Algoritmo\tPython\n",
    "#E\t          and\n",
    "#OU\t          or\n",
    "#Não\t      not"
   ]
  },
  {
   "cell_type": "code",
   "execution_count": 20,
   "metadata": {},
   "outputs": [
    {
     "name": "stdout",
     "output_type": "stream",
     "text": [
      "A == B AND B > C : False\n",
      "A < B OR B > C : True\n",
      "not A == B: True\n"
     ]
    }
   ],
   "source": [
    "#Operadores\n",
    "A = 5\n",
    "B = 15\n",
    "C = 20\n",
    "print(\"A == B AND B > C :\", A == B and B > C)\n",
    "print(\"A < B OR B > C :\", A < B or B > C)\n",
    "print( \"not A == B:\", not A == B)"
   ]
  },
  {
   "cell_type": "code",
   "execution_count": 21,
   "metadata": {},
   "outputs": [
    {
     "name": "stdout",
     "output_type": "stream",
     "text": [
      "maior idade\n"
     ]
    }
   ],
   "source": [
    "#Estrutura de decisão simples if (se)\n",
    "idade =int (input('Digite a idade da pessoa:'))\n",
    "if idade > 18:\n",
    "    print(\"maior idade\")"
   ]
  },
  {
   "cell_type": "code",
   "execution_count": 24,
   "metadata": {},
   "outputs": [
    {
     "name": "stdout",
     "output_type": "stream",
     "text": [
      "O valor da variavel A agora é: 25\n",
      "O valor da variavel B agora é: 85\n"
     ]
    }
   ],
   "source": [
    "#Operadores\n",
    "A = input('valor variavel A:')\n",
    "B = input('valor variavel B:')\n",
    "if (A>B):\n",
    "    aux=A;\n",
    "    A=B;\n",
    "    B=aux;\n",
    "print(\"O valor da variavel A agora é:\", A)\n",
    "print(\"O valor da variavel B agora é:\", B)"
   ]
  },
  {
   "cell_type": "code",
   "execution_count": 28,
   "metadata": {},
   "outputs": [
    {
     "name": "stdout",
     "output_type": "stream",
     "text": [
      "maior idade\n"
     ]
    }
   ],
   "source": [
    "#Instrução for falsa\n",
    "idade = int(input('Digite a idade da pessoa:'))\n",
    "if idade > 18:\n",
    "    print(\"maior idade\")\n",
    "else:\n",
    "    print(\"menor idade\")\n"
   ]
  },
  {
   "cell_type": "code",
   "execution_count": 34,
   "metadata": {},
   "outputs": [
    {
     "name": "stdout",
     "output_type": "stream",
     "text": [
      "A média: 6.0 - reprovado\n"
     ]
    }
   ],
   "source": [
    "# na pratica5\n",
    "notaA = float(input(\"primeira nota:\"))\n",
    "notaB = float(input(\"segunda nota\"))\n",
    "\n",
    "#calculando a média\n",
    "mediafinal = (notaA + notaB) / 2\n",
    "\n",
    "#verificando\n",
    "if mediafinal >= 7.0:\n",
    "    print('A média: %.1f - aprovado' % mediafinal)\n",
    "else:\n",
    "    print('A média: %.1f - reprovado' % mediafinal)"
   ]
  },
  {
   "cell_type": "code",
   "execution_count": 35,
   "metadata": {},
   "outputs": [
    {
     "name": "stdout",
     "output_type": "stream",
     "text": [
      "menor idade\n"
     ]
    }
   ],
   "source": [
    "#utilizando o comando elif\n",
    "idade = int(input('Digite a idade da pessoa:'))\n",
    "if idade > 18:\n",
    "    print(\"maior idade\")\n",
    "elif idade>16:\n",
    "    print(\"infanto juvenil\")\n",
    "else:\n",
    "    print(\"menor idade\")\n"
   ]
  },
  {
   "cell_type": "code",
   "execution_count": 36,
   "metadata": {},
   "outputs": [
    {
     "name": "stdout",
     "output_type": "stream",
     "text": [
      "0\n",
      "1\n",
      "2\n",
      "3\n",
      "4\n",
      "5\n",
      "6\n",
      "7\n",
      "8\n",
      "9\n"
     ]
    }
   ],
   "source": [
    "#Estrutura de repetição for(para)\n",
    "\n",
    "for n in range(10):\n",
    "    print(n)"
   ]
  },
  {
   "cell_type": "code",
   "execution_count": 37,
   "metadata": {},
   "outputs": [
    {
     "name": "stdout",
     "output_type": "stream",
     "text": [
      "5\n",
      "6\n",
      "7\n",
      "8\n",
      "9\n",
      "10\n",
      "11\n",
      "12\n",
      "13\n",
      "14\n",
      "15\n"
     ]
    }
   ],
   "source": [
    "#Com determinação de valor inicial\n",
    "for n in range (5, 16):\n",
    "    print(n)"
   ]
  },
  {
   "cell_type": "code",
   "execution_count": 39,
   "metadata": {},
   "outputs": [
    {
     "name": "stdout",
     "output_type": "stream",
     "text": [
      "10\n",
      "9\n",
      "8\n",
      "7\n",
      "6\n",
      "5\n",
      "4\n",
      "3\n",
      "2\n",
      "1\n"
     ]
    }
   ],
   "source": [
    "#utilizando em ordem decrescente\n",
    "for n in range(10 , 0 , -1):\n",
    "    print(n)"
   ]
  },
  {
   "cell_type": "code",
   "execution_count": 50,
   "metadata": {},
   "outputs": [
    {
     "name": "stdout",
     "output_type": "stream",
     "text": [
      "1\n",
      "2\n",
      "3\n",
      "4\n",
      "5\n",
      "6\n",
      "7\n",
      "8\n",
      "9\n",
      "10\n",
      "11\n",
      "12\n",
      "13\n",
      "14\n",
      "15\n"
     ]
    }
   ],
   "source": [
    "#Estrutura while (enquanto)\n",
    "X = 1;\n",
    "while X<=15:\n",
    "    print(X);\n",
    "    X=X+1"
   ]
  },
  {
   "cell_type": "code",
   "execution_count": 70,
   "metadata": {},
   "outputs": [
    {
     "name": "stdout",
     "output_type": "stream",
     "text": [
      "\n",
      " total soma: 0\n",
      "\n",
      " valores digitados: 8\n",
      "\n",
      " media dos valores: 0.0\n"
     ]
    }
   ],
   "source": [
    "#Detalhando o codigo\n",
    "\n",
    "qtd =8\n",
    "soma=0\n",
    "media=0\n",
    "valor= float(input(\"um valor: \"))\n",
    "\n",
    "while (valor > 0.0):\n",
    "    soma = soma + valor\n",
    "    qtd = qtd + 1\n",
    "\n",
    "    #Entrada de valores\n",
    "valor = float(input(\"um valor:\"))\n",
    "\n",
    "\n",
    "#Caso digite um valor negativo o laço encerra\n",
    "media = soma / qtd\n",
    "print(\"\\n total soma:\", soma)\n",
    "print(\"\\n valores digitados:\", qtd)\n",
    "print (\"\\n media dos valores:\", media)"
   ]
  },
  {
   "cell_type": "code",
   "execution_count": 4,
   "metadata": {},
   "outputs": [
    {
     "name": "stdout",
     "output_type": "stream",
     "text": [
      "hello world\n",
      "hello world\n"
     ]
    }
   ],
   "source": [
    "#exemplo de simplificação de função\n",
    "def mensagem1():\n",
    "    print(\"hello world\")\n",
    "\n",
    "def mensagem2():\n",
    " return \"hello world\"\n",
    "    \n",
    "mensagem1()\n",
    "\n",
    "texto = mensagem2()\n",
    "print(texto)"
   ]
  },
  {
   "cell_type": "code",
   "execution_count": 6,
   "metadata": {},
   "outputs": [
    {
     "name": "stdout",
     "output_type": "stream",
     "text": [
      "nota 1: 8.0\n",
      "nota 2: 4.0\n",
      "Media : 6.0 Resultado:Reprovado\n"
     ]
    }
   ],
   "source": [
    "#Criando pograma de calculo de media com def\n",
    "def lernotas():\n",
    "    n=float(input(\"Digite uma nota para o aluno:\"))\n",
    "    return n\n",
    "\n",
    "def resultado (n1, n2):\n",
    "    media=(n1+n2)/2\n",
    "    print(\"nota 1:\", n1)\n",
    "    print(\"nota 2:\", n2)\n",
    "    print(\"Media :\", media, \"Resultado:\", end=\"\")\n",
    "    if media>= 7:\n",
    "        print(\"Aprovado\")\n",
    "    else:\n",
    "        print(\"Reprovado\")\n",
    "    \n",
    "\n",
    "a = lernotas()\n",
    "b = lernotas()\n",
    "resultado(a,b)\n"
   ]
  },
  {
   "cell_type": "code",
   "execution_count": 9,
   "metadata": {},
   "outputs": [],
   "source": [
    "#Classe chamada gravar\n",
    "#Criar um arquivo txt\n",
    "arquivo = open('arqText.txt', 'w')\n",
    "\n",
    "arquivo.write(\"Curso Python \\n\")\n",
    "arquivo.write('Aula Pratica')\n",
    "arquivo.close()"
   ]
  },
  {
   "cell_type": "code",
   "execution_count": 11,
   "metadata": {},
   "outputs": [
    {
     "name": "stdout",
     "output_type": "stream",
     "text": [
      "Curso Python \n",
      "Aula Pratica\n"
     ]
    }
   ],
   "source": [
    "#fazendo a leitura do arquivo de texto\n",
    "leitura=open(\"arqText.txt\", \"r\")\n",
    "print(leitura.read())\n",
    "leitura.close()"
   ]
  },
  {
   "cell_type": "code",
   "execution_count": null,
   "metadata": {},
   "outputs": [],
   "source": []
  }
 ],
 "metadata": {
  "kernelspec": {
   "display_name": "Python 3",
   "language": "python",
   "name": "python3"
  },
  "language_info": {
   "codemirror_mode": {
    "name": "ipython",
    "version": 3
   },
   "file_extension": ".py",
   "mimetype": "text/x-python",
   "name": "python",
   "nbconvert_exporter": "python",
   "pygments_lexer": "ipython3",
   "version": "3.11.3"
  },
  "orig_nbformat": 4
 },
 "nbformat": 4,
 "nbformat_minor": 2
}
